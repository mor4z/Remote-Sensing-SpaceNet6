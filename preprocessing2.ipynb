{
 "cells": [
  {
   "cell_type": "markdown",
   "id": "562e4787",
   "metadata": {},
   "source": [
    "# Preprocessamento delle immagini in formato .geojson (metodo 2)\n",
    "\n",
    "Faccio un preprocessamento utilizzando un secondo metodo per verificare se ottengo sempre le stesse maschere."
   ]
  },
  {
   "cell_type": "code",
   "execution_count": null,
   "id": "dc0f2b4a",
   "metadata": {},
   "outputs": [],
   "source": [
    "from preprocessing import create_masks\n",
    "\n",
    "image_folder = '../data/train/AOI_11_Rotterdam/PS-RGB'\n",
    "geojson_folder = '../data/train/AOI_11_Rotterdam/geojson_buildings'\n",
    "create_masks(image_folder, geojson_folder)\n",
    "print(\"Masks created successfully!\")"
   ]
  },
  {
   "cell_type": "markdown",
   "id": "fef180b0",
   "metadata": {},
   "source": [
    "# Verifica dei due metodi\n",
    "Stampo le prime 5 immagini da entrambe le cartelle in cui ho messo i file delle maschere, così da fare un check se combaciano."
   ]
  },
  {
   "cell_type": "code",
   "execution_count": null,
   "id": "1f3ee8c7",
   "metadata": {},
   "outputs": [],
   "source": [
    "import os\n",
    "import matplotlib.pyplot as plt\n",
    "from PIL import Image\n",
    "\n",
    "# Percorsi delle cartelle\n",
    "MASKS_FOLDER = '../data/train/AOI_11_Rotterdam/masks'\n",
    "RASTERIZED_MASKS_FOLDER = '../data/train/AOI_11_Rotterdam/rasterized_masks'\n",
    "\n",
    "NUM_IMAGES_TO_DISPLAY = 5\n",
    "\n",
    "print(f\"Visualizzazione delle prime {NUM_IMAGES_TO_DISPLAY} immagini da ogni cartella:\")\n",
    "print(f\"1. Maschere originali (PNG): {MASKS_FOLDER}\")\n",
    "print(f\"2. Maschere rasterizzate (PNG/TIF): {RASTERIZED_MASKS_FOLDER}\\n\")\n",
    "\n",
    "# Funzione per caricare e visualizzare un'immagine da una cartella\n",
    "def display_images_from_folder(folder_path, title_prefix, file_extensions=('.png', '.tif')):\n",
    "    print(f\"Caricamento immagini da: {folder_path}\")\n",
    "    try:\n",
    "\n",
    "        image_files = sorted([f for f in os.listdir(folder_path) if f.lower().endswith(file_extensions)])\n",
    "\n",
    "        if not image_files:\n",
    "            print(f\"Nessun file immagine trovato in {folder_path}.\")\n",
    "            return\n",
    "\n",
    "        # Crea una figura con una riga e NUM_IMAGES_TO_DISPLAY colonne\n",
    "        fig, axes = plt.subplots(1, NUM_IMAGES_TO_DISPLAY, figsize=(18, 4))\n",
    "        fig.suptitle(f\"{title_prefix}\", fontsize=14)\n",
    "\n",
    "        if NUM_IMAGES_TO_DISPLAY == 1:\n",
    "            axes = [axes] \n",
    "\n",
    "        for i in range(min(NUM_IMAGES_TO_DISPLAY, len(image_files))):\n",
    "            img_filename = image_files[i]\n",
    "            img_path = os.path.join(folder_path, img_filename)\n",
    "\n",
    "            try:\n",
    "                img = Image.open(img_path).convert('L')\n",
    "                \n",
    "                axes[i].imshow(img, cmap='gray')\n",
    "                # Per pulizia, invece di stampare il nome del file metto un nome generico\n",
    "                axes[i].set_title(f\"Immagine {i+1}\", fontsize=9)\n",
    "                axes[i].axis('off') \n",
    "            except Exception as e:\n",
    "                axes[i].text(0.5, 0.5, f\"Errore: {e}\", horizontalalignment='center', verticalalignment='center', transform=axes[i].transAxes, color='red', fontsize=7)\n",
    "                axes[i].axis('off')\n",
    "                print(f\"  Errore caricamento '{img_filename}': {e}\")\n",
    "\n",
    "        plt.tight_layout(rect=[0, 0.03, 1, 0.9])\n",
    "        plt.show()\n",
    "\n",
    "    except FileNotFoundError:\n",
    "        print(f\"Errore: Cartella non trovata: {folder_path}. Controlla il percorso.\")\n",
    "        print(f\"  La Current Working Directory è: {os.getcwd()}\")\n",
    "    except Exception as e:\n",
    "        print(f\"Si è verificato un errore inaspettato durante l'elaborazione di {folder_path}: {e}\")\n",
    "\n",
    "# Test della funzione\n",
    "display_images_from_folder(MASKS_FOLDER, \"Maschere da 'masks'\", file_extensions=('.png',))\n",
    "display_images_from_folder(RASTERIZED_MASKS_FOLDER, \"Maschere Rasterizzate da 'rasterized_masks'\", file_extensions=('.png', '.tif'))"
   ]
  },
  {
   "cell_type": "markdown",
   "id": "7113a363",
   "metadata": {},
   "source": [
    "Le maschere combaciano in tutti e 5 i casi, i metodi scritti sembrano funzionare entrambi."
   ]
  }
 ],
 "metadata": {
  "kernelspec": {
   "display_name": ".venv",
   "language": "python",
   "name": "python3"
  },
  "language_info": {
   "codemirror_mode": {
    "name": "ipython",
    "version": 3
   },
   "file_extension": ".py",
   "mimetype": "text/x-python",
   "name": "python",
   "nbconvert_exporter": "python",
   "pygments_lexer": "ipython3",
   "version": "3.12.3"
  }
 },
 "nbformat": 4,
 "nbformat_minor": 5
}
