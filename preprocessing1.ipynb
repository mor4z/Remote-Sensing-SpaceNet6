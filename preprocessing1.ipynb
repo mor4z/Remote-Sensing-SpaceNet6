{
 "cells": [
  {
   "cell_type": "markdown",
   "id": "cb0807b4",
   "metadata": {},
   "source": [
    "# Preprocessamento delle immagini in formato .geojson (metodo 1)\n",
    "Prima di iniziare a lavorare con le immagini che ho, devo convertire le label da un formato .geojson ad un formato .tiff per poterle utilizzare come ground truth del mio dataset. Questa operazione la svolgo in questo notebook di preprocessamento.\n",
    "\n",
    "La prima operazione che svolgo è configurare il percorso dei dati impostando la variabile data_path al percorso della cartella contenente i dati. In seguito vado a controllare se la cartella specificata in data_path esiste effettivamente nel file system. Se non esiste, mando un messaggio di errore. In questo modo vado a verificare se riesco ad accedere ai dati su cui devo lavorare."
   ]
  },
  {
   "cell_type": "code",
   "execution_count": null,
   "id": "18f7a7d5",
   "metadata": {},
   "outputs": [],
   "source": [
    "import os\n",
    "import preprocessing\n",
    "\n",
    "data_path = '../data/train/AOI_11_Rotterdam'\n",
    "\n",
    "print(f\"Percorso dei dati configurato: {data_path}\")\n",
    "\n",
    "# Verifica se il percorso esiste\n",
    "if not os.path.isdir(data_path):\n",
    "    print(f\"\\nERRORE: La cartella dei dati non è stata trovata a '{data_path}'.\")\n",
    "    print(\"Controlla la tua struttura di directory e il valore di 'data_path'.\")\n",
    "else:\n",
    "    print(\"Percorso dei dati verificato con successo.\")"
   ]
  },
  {
   "cell_type": "markdown",
   "id": "694cb25c",
   "metadata": {},
   "source": [
    "Dopo aver verificato che posso accedere ai dati corretti, eseguo la mia funzione di preprocessamento che va a rasterizzare i file .geojson in maschere binarie. Le maschere rasterizzate vengono poi salvate nella sottocartella 'rasterized_masks'. Queste maschere rasterizzate saranno quindi il mio ground truth per l'addestramento del modello."
   ]
  },
  {
   "cell_type": "code",
   "execution_count": null,
   "id": "6dfdeafa",
   "metadata": {},
   "outputs": [],
   "source": [
    "print(\"Inizio il processo di pre-elaborazione...\")\n",
    "# Esegue la funzione importata, passandole il percorso corretto\n",
    "preprocessing.preprocess_spacenet6_data(data_path)\n",
    "print(\"Processo di pre-elaborazione terminato.\")"
   ]
  },
  {
   "cell_type": "markdown",
   "id": "ce4e8d5c",
   "metadata": {},
   "source": [
    "Vado infine a fare un test, stampando alcune immagini e le rispettive maschere, per verificare che la rasterizzazione è avvenuta correttamente."
   ]
  },
  {
   "cell_type": "code",
   "execution_count": null,
   "id": "d8b888e7",
   "metadata": {},
   "outputs": [],
   "source": [
    "import matplotlib.pyplot as plt\n",
    "import rasterio\n",
    "import os \n",
    "\n",
    "rasterized_masks_dir = os.path.join(data_path, 'rasterized_masks')\n",
    "sar_intensity_dir = os.path.join(data_path, 'SAR-Intensity')\n",
    "\n",
    "# Ottieni alcuni nomi di file di esempio\n",
    "mask_files = [f for f in os.listdir(rasterized_masks_dir) if os.path.isfile(os.path.join(rasterized_masks_dir, f)) and f.endswith('.tif')]\n",
    "\n",
    "if not mask_files:\n",
    "    print(f\"Nessuna maschera '.tif' trovata in {rasterized_masks_dir}. Il processo di pre-elaborazione potrebbe non aver funzionato o la cartella è vuota.\")\n",
    "else:\n",
    "    print(f\"Trovate {len(mask_files)} maschere rasterizzate.\")\n",
    "    \n",
    "    # Visualizza le prime 3 coppie SAR-Mask\n",
    "    num_examples_to_show = min(3, len(mask_files))\n",
    "    \n",
    "    for i in range(num_examples_to_show):\n",
    "        base_name = os.path.splitext(mask_files[i])[0]\n",
    "        mask_path = os.path.join(rasterized_masks_dir, mask_files[i])\n",
    "        sar_path = os.path.join(sar_intensity_dir, f\"{base_name}.tif\")\n",
    "\n",
    "        if os.path.exists(sar_path) and os.path.exists(mask_path):\n",
    "            print(f\"\\n--- Visualizzazione per il file: {base_name}.tif ---\") # Stampa il nome del file \n",
    "            \n",
    "            with rasterio.open(sar_path) as sar_src:\n",
    "                sar_img = sar_src.read(1) # Primo canale per visualizzazione\n",
    "                \n",
    "            with rasterio.open(mask_path) as mask_src:\n",
    "                mask_img = mask_src.read(1) # Maschera binaria (bianco/nero)\n",
    "\n",
    "            plt.figure(figsize=(12, 6))\n",
    "            \n",
    "            plt.subplot(1, 2, 1)\n",
    "            plt.imshow(sar_img, cmap='gray')\n",
    "            plt.title('SAR Image') \n",
    "            plt.axis('off')\n",
    "\n",
    "            plt.subplot(1, 2, 2)\n",
    "            plt.imshow(mask_img, cmap='gray')\n",
    "            plt.title('Rasterized Mask') \n",
    "            plt.axis('off')\n",
    "            \n",
    "            plt.show()\n",
    "        else:\n",
    "            print(f\"File SAR o maschera non trovati per {base_name}. Impossibile visualizzare.\")"
   ]
  },
  {
   "cell_type": "markdown",
   "id": "17fcca09",
   "metadata": {},
   "source": [
    "Prima di passare alla creazione della classe per il dataset, verifico se le dimensioni delle immagini sono sempre le stesse o se devo fare un ridimensionamento."
   ]
  },
  {
   "cell_type": "code",
   "execution_count": null,
   "id": "a6f1fa9e",
   "metadata": {},
   "outputs": [],
   "source": [
    "import os\n",
    "import rasterio\n",
    "\n",
    "\n",
    "if 'data_path' not in locals():\n",
    "    print(\"Errore: 'data_path' non è definito. Esegui la prima cella del notebook.\")\n",
    "else:\n",
    "    sar_intensity_dir = os.path.join(data_path, 'SAR-Intensity')\n",
    "    \n",
    "    if not os.path.isdir(sar_intensity_dir):\n",
    "        print(f\"Errore: Cartella SAR non trovata a: {sar_intensity_dir}\")\n",
    "    else:\n",
    "        print(f\"Analisi delle dimensioni delle immagini SAR in: {sar_intensity_dir}\")\n",
    "        \n",
    "        sar_files = [f for f in os.listdir(sar_intensity_dir) if f.endswith('.tif')]\n",
    "        total_files = len(sar_files)\n",
    "        \n",
    "        if total_files == 0:\n",
    "            print(\"Nessun file .tif trovato nella cartella SAR.\")\n",
    "        else:\n",
    "            print(f\"Trovati {total_files} file SAR. Verifico le dimensioni...\")\n",
    "            \n",
    "            # Utilizzo un insieme per metterci dentro tutte le dimensioni uniche, in questo modo se un valore su ripete, non ho duplicati\n",
    "            unique_dimensions = set()\n",
    "            \n",
    "            for i, sar_filename in enumerate(sar_files):\n",
    "                sar_path = os.path.join(sar_intensity_dir, sar_filename)\n",
    "                \n",
    "                try:\n",
    "                    with rasterio.open(sar_path) as src:\n",
    "                        height = src.height\n",
    "                        width = src.width\n",
    "                        current_dimensions = (height, width)\n",
    "                        \n",
    "                        unique_dimensions.add(current_dimensions)\n",
    "                        \n",
    "                        \n",
    "                except Exception as e:\n",
    "                    print(f\"Errore nella lettura di {sar_filename}: {e}\")\n",
    "            \n",
    "            print(\"\\n--- Riassunto delle Dimensioni Immagini SAR ---\")\n",
    "            if len(unique_dimensions) == 1:\n",
    "                print(f\"Tutte le immagini SAR hanno la stessa dimensione: {list(unique_dimensions)[0]}\")\n",
    "            else:\n",
    "                print(\"Le immagini SAR hanno dimensioni diverse:\")\n",
    "                for dim in sorted(list(unique_dimensions)): \n",
    "                    print(f\"- {dim}\")\n",
    "            \n",
    "            print(\"\\nAnalisi dimensioni completata.\")"
   ]
  },
  {
   "cell_type": "markdown",
   "id": "2a0af3f9",
   "metadata": {},
   "source": [
    "Tutte le immagini risultano essere delle stesse dimensioni"
   ]
  }
 ],
 "metadata": {
  "kernelspec": {
   "display_name": ".venv",
   "language": "python",
   "name": "python3"
  },
  "language_info": {
   "codemirror_mode": {
    "name": "ipython",
    "version": 3
   },
   "file_extension": ".py",
   "mimetype": "text/x-python",
   "name": "python",
   "nbconvert_exporter": "python",
   "pygments_lexer": "ipython3",
   "version": "3.12.3"
  }
 },
 "nbformat": 4,
 "nbformat_minor": 5
}
