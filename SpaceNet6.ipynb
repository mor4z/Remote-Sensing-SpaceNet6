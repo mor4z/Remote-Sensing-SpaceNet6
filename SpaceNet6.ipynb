{
 "cells": [
  {
   "cell_type": "code",
   "execution_count": 1,
   "id": "d8be0cf4",
   "metadata": {},
   "outputs": [
    {
     "name": "stdout",
     "output_type": "stream",
     "text": [
      "Tensore su CPU: cpu\n",
      "Tensore su GPU: cuda:0\n"
     ]
    }
   ],
   "source": [
    "import torch\n",
    "\n",
    "# Crea un tensore sulla CPU\n",
    "cpu_tensor = torch.tensor([1, 2, 3])\n",
    "print(f\"Tensore su CPU: {cpu_tensor.device}\")\n",
    "\n",
    "# Sposta il tensore sulla GPU (se disponibile)\n",
    "if torch.cuda.is_available():\n",
    "    gpu_tensor = cpu_tensor.to(\"cuda\")\n",
    "    print(f\"Tensore su GPU: {gpu_tensor.device}\")\n",
    "else:\n",
    "    print(\"CUDA non disponibile, il tensore rimane sulla CPU.\")"
   ]
  },
  {
   "cell_type": "markdown",
   "id": "ee6e781e",
   "metadata": {},
   "source": [
    "# Remote Sensing - SpaceNet 6\n",
    "Notebook Pyhton realizzato per il progetto del corso \"Laboratorio di Intelligenza Artificiale\" del prof. Ciarfuglia presso l'università La Sapienza."
   ]
  },
  {
   "cell_type": "code",
   "execution_count": null,
   "id": "1b6220dc",
   "metadata": {},
   "outputs": [],
   "source": [
    "# Importazione di librerie varie\n",
    "import os\n",
    "import numpy as np\n"
   ]
  }
 ],
 "metadata": {
  "kernelspec": {
   "display_name": ".venv",
   "language": "python",
   "name": "python3"
  },
  "language_info": {
   "codemirror_mode": {
    "name": "ipython",
    "version": 3
   },
   "file_extension": ".py",
   "mimetype": "text/x-python",
   "name": "python",
   "nbconvert_exporter": "python",
   "pygments_lexer": "ipython3",
   "version": "3.12.3"
  }
 },
 "nbformat": 4,
 "nbformat_minor": 5
}
