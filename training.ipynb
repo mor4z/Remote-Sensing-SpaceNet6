{
 "cells": [
  {
   "cell_type": "markdown",
   "id": "9758b170",
   "metadata": {},
   "source": [
    "# Training del modello\n"
   ]
  },
  {
   "cell_type": "markdown",
   "id": "db89b393",
   "metadata": {},
   "source": [
    "Dopo aver preparato i dati e definito l'architettura della rete neurale, vado ad addestrare il modello. Durante il training il modello diventerà in grado di riconoscere i pattern e fare previsioni sulle maschere di nuovi dati.\n",
    "\n",
    "Il processo di training avviene iterativamente per epoche. Per ogni epoca si svolgono le seguenti operazioni:\n",
    "- viene eseguita la funzione train() sul training set, il modello apprenderà dati, calcolerà la loss e aggiornerà i pesi per minimizzare l'errore;\n",
    "- viene eseguita la funzione get_evals() sul validation set, cioè vengono calcolate diverse metrice di performance (loss, precision, recall, F1-score) per valutare quanto il modello che sto addestrando è in grado di generalizzare su dati non visti;\n",
    "- vengono salvate le metriche di valutazione e di training nel dizionario history per monitorare l'andamento delle prestazioni nel tempo;\n",
    "- viene eseguito un check per prevenire l'overfitting, detto early stopping, che interrompe in anticipo l'addestramento se la loss calcolata sul validation set non migliora o peggiora per un certo numero di iterazioni."
   ]
  },
  {
   "cell_type": "code",
   "execution_count": 1,
   "id": "66b7cafe",
   "metadata": {},
   "outputs": [],
   "source": [
    "# Importo librerie e moduli necessari\n",
    "import sys\n",
    "sys.path.insert(0, './src')\n",
    "import utils\n",
    "\n",
    "import albumentations as A\n",
    "import os\n",
    "import torch\n",
    "import torch.nn as nn\n",
    "import warnings\n",
    "import torch.utils.data as data\n",
    "from rasterio.errors import NotGeoreferencedWarning"
   ]
  },
  {
   "cell_type": "markdown",
   "id": "397bffc1",
   "metadata": {},
   "source": [
    "Verifico che la GPU sia disponibile e che CUDA funzioni."
   ]
  },
  {
   "cell_type": "code",
   "execution_count": 2,
   "id": "d37c1cb2",
   "metadata": {},
   "outputs": [
    {
     "name": "stdout",
     "output_type": "stream",
     "text": [
      "Using PyTorch version: 2.7.1+cu118  Device: cuda\n",
      "PyTorch version:  2.7.1+cu118\n",
      "CUDA version:  11.8\n",
      "cuDNN version:  90100\n"
     ]
    }
   ],
   "source": [
    "device = utils.set_cuda_and_seed()\n",
    "\n",
    "print(\"PyTorch version: \", torch.__version__)\n",
    "print(\"CUDA version: \", torch.version.cuda)\n",
    "print(\"cuDNN version: \", torch.backends.cudnn.version())"
   ]
  },
  {
   "cell_type": "code",
   "execution_count": 3,
   "id": "fcddedab",
   "metadata": {},
   "outputs": [
    {
     "name": "stdout",
     "output_type": "stream",
     "text": [
      "Using device: cuda\n"
     ]
    },
    {
     "name": "stderr",
     "output_type": "stream",
     "text": [
      "Calculating mean and std: 100%|██████████| 2720/2720 [00:18<00:00, 145.58it/s]"
     ]
    },
    {
     "name": "stdout",
     "output_type": "stream",
     "text": [
      "Mean:  [63.31486282 66.9413639  60.9381894 ]\n",
      "Std:  [55.64725704 55.50469196 52.78288904]\n"
     ]
    },
    {
     "name": "stderr",
     "output_type": "stream",
     "text": [
      "\n"
     ]
    }
   ],
   "source": [
    "MEAN, STD = utils.get_mean_std(\"split/train.txt\")\n",
    "print(\"Mean: \", MEAN)\n",
    "print(\"Std: \", STD) "
   ]
  },
  {
   "cell_type": "markdown",
   "id": "0fccd50b",
   "metadata": {},
   "source": [
    "Costanti utili e percorsi utili"
   ]
  },
  {
   "cell_type": "code",
   "execution_count": null,
   "id": "b5a7147b",
   "metadata": {},
   "outputs": [],
   "source": [
    "MEAN = [0, 0, 0]\n",
    "STD = [1.0, 1.0, 1.0]\n",
    "INITIAL_LR = 1e-4 # o 1e-4\n",
    "MAX_LR = 1e-2\n",
    "SIZE = 200\n",
    "NUM_WORKERS = 8\n",
    "BATCH_SIZE = 16 # o 32\n",
    "EPOCHS = 16\n",
    "LOAD_BEST = False\n",
    "\n",
    "# Percorsi utili\n",
    "DATASET_PATH = \"data/train/AOI_11_Rotterdam/\"\n",
    "OUTPUT_PATH = \"output/\"\n",
    "CHECKPOINT_PATH = OUTPUT_PATH + \"checkpoints/\"\n",
    "GRAPH_PATH = OUTPUT_PATH + \"graphs/\"\n",
    "SPLIT_PATH = \"split/\""
   ]
  },
  {
   "cell_type": "markdown",
   "id": "880f4043",
   "metadata": {},
   "source": [
    "Preparo i dati e faccio data augmentation prima di iniziare ad addestrare la rete. Utilizzo la libreria Albumentations, come suggerito dal tutor, che è molto efficiente nelle trasformazioni delle immagini.\n",
    "\n",
    "Per il training set vado a fare una normalizzazione dei pixel delle immagini e poi vado a fare dei Random Resized Crop, cioè faccio selezionare una porzione casuale dell'immagine, che viene poi ridimensionata alla dimensione SIZE.\n",
    "\n",
    "Per il validation set vado a fare una normalizzazione dei pixel delle immagini e poi vado a fare dei Center Crop, cioè faccio selezionare una porzione quadrata di lato SIZE dal centro dell'imagine.\n",
    "\n",
    "Infine vado a caricare le immagini e le maschere del dataset, applicandovi le trasformazioni definite nella stessa cella."
   ]
  },
  {
   "cell_type": "code",
   "execution_count": 5,
   "id": "97a42316",
   "metadata": {},
   "outputs": [],
   "source": [
    "train_transforms = A.Compose([\n",
    "    A.Normalize(mean=MEAN, std=STD, max_pixel_value=255.0),\n",
    "    A.RandomResizedCrop(size = (SIZE, SIZE)),\n",
    "])\n",
    "\n",
    "eval_transforms = A.Compose([\n",
    "    A.Normalize(mean=MEAN, std=STD, max_pixel_value=255.0),\n",
    "    A.CenterCrop(SIZE, SIZE)\n",
    "])\n",
    "\n",
    "from dataset import SpaceNet6Dataset\n",
    "\n",
    "train_dataset = SpaceNet6Dataset(SPLIT_PATH, transform=train_transforms, split='train')\n",
    "eval_dataset = SpaceNet6Dataset(SPLIT_PATH, transform=eval_transforms, split='val')"
   ]
  },
  {
   "cell_type": "markdown",
   "id": "47d1fe9f",
   "metadata": {},
   "source": [
    "Vado a caricare sui loader i valori necessari per l'addestramento che sono i dataset, le dimensioni dei batch, la funzione shuffle per mescolare i dati, la variabile pin_memory così che PyTorch tenta di caricare i tensori nella memoria \"pinnata\" (pinned memory) della RAM e il numero di sottoprocessi da utilizzare per il caricamento dei dati.\n",
    "Infine faccio un check di prova stampando un'immagine casuale e la rispettiva maschera."
   ]
  },
  {
   "cell_type": "code",
   "execution_count": 6,
   "id": "340b72c0",
   "metadata": {},
   "outputs": [
    {
     "name": "stderr",
     "output_type": "stream",
     "text": [
      "Clipping input data to the valid range for imshow with RGB data ([0..1] for floats or [0..255] for integers). Got range [-1.2060487..-1.1224223].\n"
     ]
    },
    {
     "name": "stdout",
     "output_type": "stream",
     "text": [
      "Image shape: torch.Size([16, 3, 200, 200]), Mask shape: torch.Size([16, 1, 200, 200])\n"
     ]
    },
    {
     "data": {
      "image/png": "[encoded data removed]",
      "text/plain": [
       "<Figure size 1000x1000 with 2 Axes>"
      ]
     },
     "metadata": {},
     "output_type": "display_data"
    }
   ],
   "source": [
    "with warnings.catch_warnings():\n",
    "    warnings.filterwarnings(\"ignore\", category=NotGeoreferencedWarning)\n",
    "\n",
    "    train_loader = data.DataLoader(train_dataset, batch_size=BATCH_SIZE, shuffle=True, pin_memory=True, num_workers=NUM_WORKERS)\n",
    "    eval_loader = data.DataLoader(eval_dataset, batch_size=BATCH_SIZE, shuffle=True,  pin_memory=True, num_workers=NUM_WORKERS)\n",
    "\n",
    "    image, mask = next(iter(train_loader))\n",
    "    in_channels = image.shape[1]\n",
    "    out_channels = mask.shape[1]\n",
    "    print(f\"Image shape: {image.shape}, Mask shape: {mask.shape}\")\n",
    "    utils.visualize_image(image[0], mask[0])"
   ]
  },
  {
   "cell_type": "markdown",
   "id": "50f84095",
   "metadata": {},
   "source": [
    "Importo il modello che contiene la rete e vado a stabilire diversi parametri necessari, come la funzione di loss da utilizzare, il tipo di ottimizzatore da utilizzare e se utilizzare uno scaler."
   ]
  },
  {
   "cell_type": "code",
   "execution_count": 7,
   "id": "46a517ca",
   "metadata": {},
   "outputs": [
    {
     "name": "stdout",
     "output_type": "stream",
     "text": [
      "Riepilogo del modello:\n",
      "----------------------------------------------------------------\n",
      "        Layer (type)               Output Shape         Param #\n",
      "================================================================\n",
      "            Conv2d-1         [-1, 64, 200, 200]           1,728\n",
      "       BatchNorm2d-2         [-1, 64, 200, 200]             128\n",
      "              ReLU-3         [-1, 64, 200, 200]               0\n",
      "            Conv2d-4         [-1, 64, 200, 200]          36,864\n",
      "       BatchNorm2d-5         [-1, 64, 200, 200]             128\n",
      "              ReLU-6         [-1, 64, 200, 200]               0\n",
      "        DoubleConv-7         [-1, 64, 200, 200]               0\n",
      "         MaxPool2d-8         [-1, 64, 100, 100]               0\n",
      "            Conv2d-9        [-1, 128, 100, 100]          73,728\n",
      "      BatchNorm2d-10        [-1, 128, 100, 100]             256\n",
      "             ReLU-11        [-1, 128, 100, 100]               0\n",
      "           Conv2d-12        [-1, 128, 100, 100]         147,456\n",
      "      BatchNorm2d-13        [-1, 128, 100, 100]             256\n",
      "             ReLU-14        [-1, 128, 100, 100]               0\n",
      "       DoubleConv-15        [-1, 128, 100, 100]               0\n",
      "        MaxPool2d-16          [-1, 128, 50, 50]               0\n",
      "           Conv2d-17          [-1, 256, 50, 50]         294,912\n",
      "      BatchNorm2d-18          [-1, 256, 50, 50]             512\n",
      "             ReLU-19          [-1, 256, 50, 50]               0\n",
      "           Conv2d-20          [-1, 256, 50, 50]         589,824\n",
      "      BatchNorm2d-21          [-1, 256, 50, 50]             512\n",
      "             ReLU-22          [-1, 256, 50, 50]               0\n",
      "       DoubleConv-23          [-1, 256, 50, 50]               0\n",
      "        MaxPool2d-24          [-1, 256, 25, 25]               0\n",
      "           Conv2d-25          [-1, 512, 25, 25]       1,179,648\n",
      "      BatchNorm2d-26          [-1, 512, 25, 25]           1,024\n",
      "             ReLU-27          [-1, 512, 25, 25]               0\n",
      "           Conv2d-28          [-1, 512, 25, 25]       2,359,296\n",
      "      BatchNorm2d-29          [-1, 512, 25, 25]           1,024\n",
      "             ReLU-30          [-1, 512, 25, 25]               0\n",
      "       DoubleConv-31          [-1, 512, 25, 25]               0\n",
      "        MaxPool2d-32          [-1, 512, 12, 12]               0\n",
      "           Conv2d-33         [-1, 1024, 12, 12]       4,718,592\n",
      "      BatchNorm2d-34         [-1, 1024, 12, 12]           2,048\n",
      "             ReLU-35         [-1, 1024, 12, 12]               0\n",
      "           Conv2d-36         [-1, 1024, 12, 12]       9,437,184\n",
      "      BatchNorm2d-37         [-1, 1024, 12, 12]           2,048\n",
      "             ReLU-38         [-1, 1024, 12, 12]               0\n",
      "       DoubleConv-39         [-1, 1024, 12, 12]               0\n",
      "  ConvTranspose2d-40          [-1, 512, 24, 24]       2,097,664\n",
      "           Conv2d-41          [-1, 512, 25, 25]       4,718,592\n",
      "      BatchNorm2d-42          [-1, 512, 25, 25]           1,024\n",
      "             ReLU-43          [-1, 512, 25, 25]               0\n",
      "           Conv2d-44          [-1, 512, 25, 25]       2,359,296\n",
      "      BatchNorm2d-45          [-1, 512, 25, 25]           1,024\n",
      "             ReLU-46          [-1, 512, 25, 25]               0\n",
      "       DoubleConv-47          [-1, 512, 25, 25]               0\n",
      "  ConvTranspose2d-48          [-1, 256, 50, 50]         524,544\n",
      "           Conv2d-49          [-1, 256, 50, 50]       1,179,648\n",
      "      BatchNorm2d-50          [-1, 256, 50, 50]             512\n",
      "             ReLU-51          [-1, 256, 50, 50]               0\n",
      "           Conv2d-52          [-1, 256, 50, 50]         589,824\n",
      "      BatchNorm2d-53          [-1, 256, 50, 50]             512\n",
      "             ReLU-54          [-1, 256, 50, 50]               0\n",
      "       DoubleConv-55          [-1, 256, 50, 50]               0\n",
      "  ConvTranspose2d-56        [-1, 128, 100, 100]         131,200\n",
      "           Conv2d-57        [-1, 128, 100, 100]         294,912\n",
      "      BatchNorm2d-58        [-1, 128, 100, 100]             256\n",
      "             ReLU-59        [-1, 128, 100, 100]               0\n",
      "           Conv2d-60        [-1, 128, 100, 100]         147,456\n",
      "      BatchNorm2d-61        [-1, 128, 100, 100]             256\n",
      "             ReLU-62        [-1, 128, 100, 100]               0\n",
      "       DoubleConv-63        [-1, 128, 100, 100]               0\n",
      "  ConvTranspose2d-64         [-1, 64, 200, 200]          32,832\n",
      "           Conv2d-65         [-1, 64, 200, 200]          73,728\n",
      "      BatchNorm2d-66         [-1, 64, 200, 200]             128\n",
      "             ReLU-67         [-1, 64, 200, 200]               0\n",
      "           Conv2d-68         [-1, 64, 200, 200]          36,864\n",
      "      BatchNorm2d-69         [-1, 64, 200, 200]             128\n",
      "             ReLU-70         [-1, 64, 200, 200]               0\n",
      "       DoubleConv-71         [-1, 64, 200, 200]               0\n",
      "           Conv2d-72          [-1, 1, 200, 200]              65\n",
      "================================================================\n",
      "Total params: 31,037,633\n",
      "Trainable params: 31,037,633\n",
      "Non-trainable params: 0\n",
      "----------------------------------------------------------------\n",
      "Input size (MB): 0.46\n",
      "Forward/backward pass size (MB): 566.41\n",
      "Params size (MB): 118.40\n",
      "Estimated Total Size (MB): 685.27\n",
      "----------------------------------------------------------------\n",
      "Modello U-Net inizializzato e spostato sul dispositivo.\n"
     ]
    }
   ],
   "source": [
    "from model import UNET\n",
    "from train import train\n",
    "from torchsummary import summary\n",
    "import torch.optim as optim\n",
    "\n",
    "model = UNET(in_channels = 3, out_channels = 1).to(device)\n",
    "\n",
    "loss_f = nn.BCEWithLogitsLoss() # All'inizio usiamo BCEWithLogitsLoss, poi provo anche una CrossEntropyLoss\n",
    "optimizer = torch.optim.Adam(model.parameters(), lr=INITIAL_LR)\n",
    "# optimizer = optim.SGD(model.parameters(), lr=INITIAL_LR, momentum=0.9, weight_decay=1e-4)\n",
    "\n",
    "scheduler = None\n",
    "scaler = torch.amp.GradScaler('cuda', enabled=True)\n",
    "\n",
    "print(\"Riepilogo del modello:\")\n",
    "summary(model, input_size=(in_channels, SIZE, SIZE), device=str(device))\n",
    "\n",
    "print(\"Modello U-Net inizializzato e spostato sul dispositivo.\")\n",
    "\n",
    "# Ricorda di dare un nome al modello ad ogni esecuzione, che lo identificherà nel file riassuntivo\n",
    "model_name = \"UNET_8\""
   ]
  },
  {
   "cell_type": "markdown",
   "id": "5a8c1ea5",
   "metadata": {},
   "source": [
    "Avvio il training del mio modello."
   ]
  },
  {
   "cell_type": "code",
   "execution_count": 8,
   "id": "0b05097a",
   "metadata": {},
   "outputs": [
    {
     "name": "stdout",
     "output_type": "stream",
     "text": [
      "Epoch 1 of 16\n"
     ]
    },
    {
     "name": "stderr",
     "output_type": "stream",
     "text": [
      "Loss: 0.3202: 100%|██████████| 170/170 [00:40<00:00,  4.21it/s]"
     ]
    },
    {
     "name": "stdout",
     "output_type": "stream",
     "text": [
      "Predizioni salvate in: data/eval/UNET_8/\n"
     ]
    },
    {
     "name": "stderr",
     "output_type": "stream",
     "text": [
      "\n"
     ]
    },
    {
     "name": "stdout",
     "output_type": "stream",
     "text": [
      "Train loss: 0.4021 Eval loss: 1.0863 Precision: 0.1062 Recall: 0.9407 F1: 0.1908 Accuracy: 0.1559\n",
      "Salvataggio del checkpoint\n",
      "Salvataggio del checkpoint\n",
      "Best model salvato\n",
      "Epoch 2 of 16\n"
     ]
    },
    {
     "name": "stderr",
     "output_type": "stream",
     "text": [
      "Loss: 0.2592: 100%|██████████| 170/170 [00:41<00:00,  4.06it/s]"
     ]
    },
    {
     "name": "stdout",
     "output_type": "stream",
     "text": [
      "Predizioni salvate in: data/eval/UNET_8/\n"
     ]
    },
    {
     "name": "stderr",
     "output_type": "stream",
     "text": [
      "\n"
     ]
    },
    {
     "name": "stdout",
     "output_type": "stream",
     "text": [
      "Train loss: 0.2868 Eval loss: 1.5662 Precision: 0.1060 Recall: 0.9467 F1: 0.1907 Accuracy: 0.1501\n",
      "Salvataggio del checkpoint\n",
      "Epoch 3 of 16\n"
     ]
    },
    {
     "name": "stderr",
     "output_type": "stream",
     "text": [
      "Loss: 0.2104: 100%|██████████| 170/170 [01:55<00:00,  1.47it/s]"
     ]
    },
    {
     "name": "stdout",
     "output_type": "stream",
     "text": [
      "Predizioni salvate in: data/eval/UNET_8/\n"
     ]
    },
    {
     "name": "stderr",
     "output_type": "stream",
     "text": [
      "\n"
     ]
    },
    {
     "name": "stdout",
     "output_type": "stream",
     "text": [
      "Train loss: 0.2331 Eval loss: 0.3329 Precision: 0.0000 Recall: 0.0000 F1: 0.0000 Accuracy: 0.8942\n",
      "Salvataggio del checkpoint\n",
      "Epoch 4 of 16\n"
     ]
    },
    {
     "name": "stderr",
     "output_type": "stream",
     "text": [
      "Loss: 0.1492: 100%|██████████| 170/170 [00:41<00:00,  4.08it/s]"
     ]
    },
    {
     "name": "stdout",
     "output_type": "stream",
     "text": [
      "Predizioni salvate in: data/eval/UNET_8/\n"
     ]
    },
    {
     "name": "stderr",
     "output_type": "stream",
     "text": [
      "\n"
     ]
    },
    {
     "name": "stdout",
     "output_type": "stream",
     "text": [
      "Train loss: 0.1986 Eval loss: 0.3556 Precision: 0.1668 Recall: 0.0179 F1: 0.0324 Accuracy: 0.8866\n",
      "Salvataggio del checkpoint\n",
      "Epoch 5 of 16\n"
     ]
    },
    {
     "name": "stderr",
     "output_type": "stream",
     "text": [
      "Loss: 0.1328: 100%|██████████| 170/170 [02:16<00:00,  1.25it/s]"
     ]
    },
    {
     "name": "stdout",
     "output_type": "stream",
     "text": [
      "Predizioni salvate in: data/eval/UNET_8/\n"
     ]
    },
    {
     "name": "stderr",
     "output_type": "stream",
     "text": [
      "\n"
     ]
    },
    {
     "name": "stdout",
     "output_type": "stream",
     "text": [
      "Train loss: 0.1729 Eval loss: 0.3540 Precision: 0.1735 Recall: 0.0544 F1: 0.0828 Accuracy: 0.8726\n",
      "Salvataggio del checkpoint\n",
      "Epoch 6 of 16\n"
     ]
    },
    {
     "name": "stderr",
     "output_type": "stream",
     "text": [
      "Loss: 0.1398: 100%|██████████| 170/170 [00:41<00:00,  4.07it/s]"
     ]
    },
    {
     "name": "stdout",
     "output_type": "stream",
     "text": [
      "Predizioni salvate in: data/eval/UNET_8/\n"
     ]
    },
    {
     "name": "stderr",
     "output_type": "stream",
     "text": [
      "\n"
     ]
    },
    {
     "name": "stdout",
     "output_type": "stream",
     "text": [
      "Train loss: 0.1537 Eval loss: 1.3514 Precision: 0.1685 Recall: 0.8251 F1: 0.2799 Accuracy: 0.5509\n",
      "Salvataggio del checkpoint\n",
      "Salvataggio del checkpoint\n",
      "Best model salvato\n",
      "Epoch 7 of 16\n"
     ]
    },
    {
     "name": "stderr",
     "output_type": "stream",
     "text": [
      "Loss: 0.1660: 100%|██████████| 170/170 [02:09<00:00,  1.31it/s]"
     ]
    },
    {
     "name": "stdout",
     "output_type": "stream",
     "text": [
      "Predizioni salvate in: data/eval/UNET_8/\n"
     ]
    },
    {
     "name": "stderr",
     "output_type": "stream",
     "text": [
      "\n"
     ]
    },
    {
     "name": "stdout",
     "output_type": "stream",
     "text": [
      "Train loss: 0.1397 Eval loss: 1.2601 Precision: 0.1854 Recall: 0.9757 F1: 0.3116 Accuracy: 0.5439\n",
      "Salvataggio del checkpoint\n",
      "Salvataggio del checkpoint\n",
      "Best model salvato\n",
      "Epoch 8 of 16\n"
     ]
    },
    {
     "name": "stderr",
     "output_type": "stream",
     "text": [
      "Loss: 0.1276: 100%|██████████| 170/170 [00:41<00:00,  4.07it/s]"
     ]
    },
    {
     "name": "stdout",
     "output_type": "stream",
     "text": [
      "Predizioni salvate in: data/eval/UNET_8/\n"
     ]
    },
    {
     "name": "stderr",
     "output_type": "stream",
     "text": [
      "\n"
     ]
    },
    {
     "name": "stdout",
     "output_type": "stream",
     "text": [
      "Train loss: 0.1279 Eval loss: 0.9093 Precision: 0.1668 Recall: 0.5013 F1: 0.2503 Accuracy: 0.6823\n",
      "Salvataggio del checkpoint\n",
      "Epoch 9 of 16\n"
     ]
    },
    {
     "name": "stderr",
     "output_type": "stream",
     "text": [
      "Loss: 0.1298: 100%|██████████| 170/170 [02:22<00:00,  1.20it/s]"
     ]
    },
    {
     "name": "stdout",
     "output_type": "stream",
     "text": [
      "Predizioni salvate in: data/eval/UNET_8/\n"
     ]
    },
    {
     "name": "stderr",
     "output_type": "stream",
     "text": [
      "\n"
     ]
    },
    {
     "name": "stdout",
     "output_type": "stream",
     "text": [
      "Train loss: 0.1205 Eval loss: 0.3613 Precision: 0.0004 Recall: 0.0000 F1: 0.0000 Accuracy: 0.8929\n",
      "Salvataggio del checkpoint\n",
      "Epoch 10 of 16\n"
     ]
    },
    {
     "name": "stderr",
     "output_type": "stream",
     "text": [
      "Loss: 0.0907: 100%|██████████| 170/170 [00:41<00:00,  4.11it/s]"
     ]
    },
    {
     "name": "stdout",
     "output_type": "stream",
     "text": [
      "Predizioni salvate in: data/eval/UNET_8/\n"
     ]
    },
    {
     "name": "stderr",
     "output_type": "stream",
     "text": [
      "\n"
     ]
    },
    {
     "name": "stdout",
     "output_type": "stream",
     "text": [
      "Train loss: 0.1160 Eval loss: 1.8497 Precision: 0.1085 Recall: 0.8864 F1: 0.1933 Accuracy: 0.2176\n",
      "Salvataggio del checkpoint\n",
      "Epoch 11 of 16\n"
     ]
    },
    {
     "name": "stderr",
     "output_type": "stream",
     "text": [
      "Loss: 0.1047: 100%|██████████| 170/170 [02:21<00:00,  1.20it/s]"
     ]
    },
    {
     "name": "stdout",
     "output_type": "stream",
     "text": [
      "Predizioni salvate in: data/eval/UNET_8/\n"
     ]
    },
    {
     "name": "stderr",
     "output_type": "stream",
     "text": [
      "\n"
     ]
    },
    {
     "name": "stdout",
     "output_type": "stream",
     "text": [
      "Train loss: 0.1060 Eval loss: 0.4237 Precision: 0.0996 Recall: 0.0164 F1: 0.0281 Accuracy: 0.8803\n",
      "Salvataggio del checkpoint\n",
      "Epoch 12 of 16\n"
     ]
    },
    {
     "name": "stderr",
     "output_type": "stream",
     "text": [
      "Loss: 0.1077: 100%|██████████| 170/170 [00:41<00:00,  4.14it/s]"
     ]
    },
    {
     "name": "stdout",
     "output_type": "stream",
     "text": [
      "Predizioni salvate in: data/eval/UNET_8/\n"
     ]
    },
    {
     "name": "stderr",
     "output_type": "stream",
     "text": [
      "\n"
     ]
    },
    {
     "name": "stdout",
     "output_type": "stream",
     "text": [
      "Train loss: 0.1013 Eval loss: 0.2197 Precision: 0.5514 Recall: 0.6225 F1: 0.5848 Accuracy: 0.9065\n",
      "Salvataggio del checkpoint\n",
      "Salvataggio del checkpoint\n",
      "Best model salvato\n",
      "Epoch 13 of 16\n"
     ]
    },
    {
     "name": "stderr",
     "output_type": "stream",
     "text": [
      "Loss: 0.1013: 100%|██████████| 170/170 [01:58<00:00,  1.43it/s]"
     ]
    },
    {
     "name": "stdout",
     "output_type": "stream",
     "text": [
      "Predizioni salvate in: data/eval/UNET_8/\n"
     ]
    },
    {
     "name": "stderr",
     "output_type": "stream",
     "text": [
      "\n"
     ]
    },
    {
     "name": "stdout",
     "output_type": "stream",
     "text": [
      "Train loss: 0.0968 Eval loss: 0.4179 Precision: 0.2191 Recall: 0.0061 F1: 0.0120 Accuracy: 0.8926\n",
      "Salvataggio del checkpoint\n",
      "Epoch 14 of 16\n"
     ]
    },
    {
     "name": "stderr",
     "output_type": "stream",
     "text": [
      "Loss: 0.0778: 100%|██████████| 170/170 [00:41<00:00,  4.07it/s]"
     ]
    },
    {
     "name": "stdout",
     "output_type": "stream",
     "text": [
      "Predizioni salvate in: data/eval/UNET_8/\n"
     ]
    },
    {
     "name": "stderr",
     "output_type": "stream",
     "text": [
      "\n"
     ]
    },
    {
     "name": "stdout",
     "output_type": "stream",
     "text": [
      "Train loss: 0.0934 Eval loss: 0.6415 Precision: 0.0508 Recall: 0.0586 F1: 0.0544 Accuracy: 0.7845\n",
      "Salvataggio del checkpoint\n",
      "Early stopping\n",
      "Training completato con successo!\n"
     ]
    }
   ],
   "source": [
    "# Variabili per i checkpoint\n",
    "best_f1 = 0.0\n",
    "history = {\n",
    "    'train_loss': [],\n",
    "    'val_loss': [],\n",
    "    'precision': [],\n",
    "    'recall': [],\n",
    "    'f1': [],\n",
    "    'accuracy': [],\n",
    "}\n",
    "\n",
    "last_epoch = 0\n",
    "if LOAD_BEST:\n",
    "    print(\"Ricaricando il modello migliore...\")\n",
    "    if(os.path.exists(CHECKPOINT_PATH + \"best.pth\")):\n",
    "        history, last_epoch = utils.load_checkpoint(CHECKPOINT_PATH + \"best.pth\", model, optimizer, scheduler)\n",
    "        best_f1 = max(history['f1'])\n",
    "    else:\n",
    "        print(\"Nessun modello trovato, inizio un nuovo training da zero.\")\n",
    "\n",
    "\n",
    "# Ciclo di traininig\n",
    "with warnings.catch_warnings():\n",
    "    warnings.filterwarnings(\"ignore\", category=NotGeoreferencedWarning)\n",
    "    for epoch in range(last_epoch, EPOCHS):\n",
    "        print(f\"Epoch {epoch+1} of {EPOCHS}\")\n",
    "        train_loss = train(train_loader, model, optimizer, loss_f, scaler, scheduler, device)\n",
    "        # Se la loss è NaN, vuol dire che qualcosa non sta andando come previsto, vado quindi ad interrompere il training.\n",
    "        # in python il controllo se una variabile è NaN si fa con la condizione `var != var`\n",
    "        if train_loss != train_loss:\n",
    "            raise ValueError(\"La loss è Nan, qualcosa sta andando storto, interrompo il training!\")\n",
    "\n",
    "        eval_loss, precision, recall, f1, accuracy = utils.get_evals(eval_loader, model, loss_f, device, save_predictions=True, output_path=\"data/eval/\" + model_name + \"/\")\n",
    "        history['train_loss'].append(train_loss)\n",
    "        history['val_loss'].append(eval_loss)\n",
    "        history['precision'].append(precision)\n",
    "        history['recall'].append(recall)\n",
    "        history['f1'].append(f1)\n",
    "        history['accuracy'].append(accuracy)\n",
    "        print(f\"Train loss: {train_loss:.4f} Eval loss: {eval_loss:.4f} Precision: {precision:.4f} Recall: {recall:.4f} F1: {f1:.4f} Accuracy: {accuracy:.4f}\")\n",
    "        # Salvataggio del checkpoint\n",
    "        checkpoint = {\n",
    "            \"history\" : history,\n",
    "            \"epoch\" : epoch,\n",
    "            \"state_dict\": model.state_dict(),\n",
    "            \"optimizer\": optimizer.state_dict(),\n",
    "            \"loss\": loss_f.state_dict(),\n",
    "        }\n",
    "        utils.save_checkpoint(checkpoint, filename=CHECKPOINT_PATH + \"checkpoint.pth\")\n",
    "        if f1 > best_f1:\n",
    "            best_f1 = f1\n",
    "            utils.save_checkpoint(checkpoint, filename=CHECKPOINT_PATH + \"best.pth\")\n",
    "            print(\"Best model salvato\")\n",
    "\n",
    "        if epoch - 3 > 0: # Value of validation loss is increasing, model is overfitting. Need to stop training\n",
    "            if history['val_loss'][epoch] > history['val_loss'][epoch-1] > history['val_loss'][epoch-2]:\n",
    "                print(\"Early stopping\")\n",
    "                break\n",
    "print(\"Training completato con successo!\")"
   ]
  },
  {
   "cell_type": "code",
   "execution_count": 9,
   "id": "6697bd2c",
   "metadata": {},
   "outputs": [
    {
     "name": "stdout",
     "output_type": "stream",
     "text": [
      "Riepilogo del run 'UNET_8' salvato in 'output/stats/riassunto_modelli.txt'\n"
     ]
    }
   ],
   "source": [
    "SUMMARY_FILE_PATH = \"output/stats/riassunto_modelli.txt\"\n",
    "epochs_completed = epoch + 1 # Poiché 'epoch' è 0-indexed\n",
    "final_train_loss = history['train_loss'][-1] # L'ultimo elemento della lista\n",
    "final_eval_loss = history['val_loss'][-1]   # L'ultimo elemento della lista\n",
    "loss_function_name = loss_f.__class__.__name__\n",
    "\n",
    "# Trova l'epoca in cui è stato raggiunto il best_f1\n",
    "try:\n",
    "    if history['f1']:\n",
    "        best_f1_epoch = history['f1'].index(best_f1)\n",
    "    else:\n",
    "        best_f1_epoch = 0 # Se la history è vuota, usa 0\n",
    "except ValueError:\n",
    "    best_f1_epoch = epochs_completed - 1 if epochs_completed > 0 else 0\n",
    "    print(f\"Attenzione: Impossibile trovare best_f1 ({best_f1:.4f}) nella cronologia. Usando l'epoca {best_f1_epoch} per le metriche.\")\n",
    "\n",
    "\n",
    "final_precision = history['precision'][best_f1_epoch]\n",
    "final_recall = history['recall'][best_f1_epoch]\n",
    "final_accuracy = history['accuracy'][best_f1_epoch]\n",
    "\n",
    "# Prepara le stringhe per configurazione e statistiche\n",
    "config_str = (\n",
    "    f\"MODEL_NAME={model_name},\"\n",
    "    f\"NETWORK_TYPE=UNET,IN_CHANNELS={in_channels},OUT_CHANNELS={out_channels},\"\n",
    "    f\"LR={INITIAL_LR},BATCH_SIZE={BATCH_SIZE},OPTIMIZER=Adam,\"\n",
    "    f\"LOSS_FUNCTION={loss_function_name},\" \n",
    "    f\"MAX_EPOCHS={EPOCHS}\"  \n",
    "    # Altri parametri da aggiungere\n",
    ")\n",
    "\n",
    "stats_str = (\n",
    "    f\"TRAIN_LOSS={final_train_loss:.4f},\"\n",
    "    f\"VAL_LOSS={final_eval_loss:.4f},\"\n",
    "    f\"BEST_F1={best_f1:.4f},\"\n",
    "    f\"PRECISION={final_precision:.4f},\"\n",
    "    f\"RECALL={final_recall:.4f},\"\n",
    "    f\"ACCURACY={final_accuracy:.4f},\"\n",
    "    f\"EPOCH_OF_BEST_F1={best_f1_epoch}\" # Aggiungi l'epoca del best F1\n",
    "    # Altri parametri da aggiungere\n",
    ")\n",
    "\n",
    "# Scrittura sul file di riepilogo\n",
    "with open(SUMMARY_FILE_PATH, 'a') as f:\n",
    "    f.write(f\"# --- INIZIO RUN: {model_name} ---\\n\")\n",
    "    f.write(f\"Config: {config_str}\\n\")\n",
    "    f.write(f\"Stats: {stats_str}\\n\")\n",
    "    f.write(f\"# --- FINE RUN: {model_name} ---\\n\\n\")\n",
    "\n",
    "print(f\"Riepilogo del run '{model_name}' salvato in '{SUMMARY_FILE_PATH}'\")"
   ]
  },
  {
   "cell_type": "markdown",
   "id": "06f833d7",
   "metadata": {},
   "source": [
    "Vado infine a stampare un esempio di predizione e di ground truth (maschera effettiva). Seguono i grafici sull'andamento della funzione di loss e delle varie metriche di valutazione, all'aumentare delle epoche passate."
   ]
  },
  {
   "cell_type": "code",
   "execution_count": 10,
   "id": "66ce9f9c",
   "metadata": {},
   "outputs": [
    {
     "name": "stdout",
     "output_type": "stream",
     "text": [
      "Caricamento del checkpoint\n"
     ]
    },
    {
     "name": "stderr",
     "output_type": "stream",
     "text": [
      "Clipping input data to the valid range for imshow with RGB data ([0..1] for floats or [0..255] for integers). Got range [-1.205978..-1.1198192].\n"
     ]
    },
    {
     "data": {
      "image/png": "[encoded data removed]",
      "text/plain": [
       "<Figure size 1000x1000 with 3 Axes>"
      ]
     },
     "metadata": {},
     "output_type": "display_data"
    },
    {
     "data": {
      "image/png": "[encoded data removed]",
      "text/plain": [
       "<Figure size 1000x500 with 2 Axes>"
      ]
     },
     "metadata": {},
     "output_type": "display_data"
    }
   ],
   "source": [
    "import matplotlib.pyplot as plt\n",
    "\n",
    "with warnings.catch_warnings():\n",
    "    warnings.filterwarnings(\"ignore\", category=NotGeoreferencedWarning)\n",
    "    \n",
    "    # Visualizzazione di un esempio di predizione e ground truth\n",
    "    history = utils.load_checkpoint(CHECKPOINT_PATH + \"checkpoint.pth\", model)\n",
    "    image, mask, pred = utils.get_random_image(eval_loader, model, device)\n",
    "    utils.visualize_image(image.cpu(), mask.cpu(), pred.cpu(), save_path = GRAPH_PATH + \"esempio.png\")\n",
    "\n",
    "    train_loss = history['train_loss']\n",
    "    eval_loss = history['val_loss']\n",
    "    precision = history['precision']\n",
    "    recall = history['recall']\n",
    "    accuracy = history['accuracy']\n",
    "    f1_score = history['f1']\n",
    "    # Grafico della loss e delle altre metriche di valutazione\n",
    "    plt.figure(figsize=(10, 5))\n",
    "    plt.subplot(1, 2, 1)\n",
    "    plt.title('Loss')   \n",
    "    plt.xlabel('Epochs')\n",
    "    plt.ylabel('Loss')\n",
    "    plt.plot(train_loss, label='Train Loss')\n",
    "    plt.plot(eval_loss, label='Eval Loss')\n",
    "    plt.legend()\n",
    "\n",
    "    plt.subplot(1, 2, 2)\n",
    "    plt.title('Metriche di valutazione')\n",
    "    plt.xlabel('Epochs')\n",
    "    plt.ylabel('Values')\n",
    "    plt.plot(precision, label='Precision')\n",
    "    plt.plot(recall, label='Recall')\n",
    "    plt.plot(accuracy, label='Accuracy')\n",
    "    plt.plot(f1_score, label='F1 Score')\n",
    "    plt.legend()\n",
    "    plt.tight_layout()\n",
    "    plt.savefig(GRAPH_PATH + \"grafico.png\")\n",
    "    plt.show()"
   ]
  }
 ],
 "metadata": {
  "kernelspec": {
   "display_name": ".venv",
   "language": "python",
   "name": "python3"
  },
  "language_info": {
   "codemirror_mode": {
    "name": "ipython",
    "version": 3
   },
   "file_extension": ".py",
   "mimetype": "text/x-python",
   "name": "python",
   "nbconvert_exporter": "python",
   "pygments_lexer": "ipython3",
   "version": "3.12.3"
  }
 },
 "nbformat": 4,
 "nbformat_minor": 5
}
